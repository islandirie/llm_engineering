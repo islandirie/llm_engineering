{
 "cells": [
  {
   "cell_type": "code",
   "execution_count": null,
   "id": "9e4a64ec",
   "metadata": {},
   "outputs": [
    {
     "name": "stdout",
     "output_type": "stream",
     "text": [
      "HTML truncated to 50000 characters to fit OpenAI token limits\n",
      "HTML content length: 50035 characters\n",
      "Based on the provided HTML content, I have extracted the necessary information about your friends and their mutual friend counts. Below is the table sorted alphabetically by friend names.\n",
      "\n",
      "| Friend Name      | Mutual Friends        |\n",
      "|------------------|-----------------------|\n",
      "| Joseph Hodge     | 13 mutual friends      |\n",
      "| Maffia Don       | 36 mutual friends      |\n",
      "| Reed Saburo      | 120 mutual friends     |\n",
      "| Rolf Quindoza    | 23 mutual friends      |\n",
      "| Joe Black        | Not available         |\n",
      "\n",
      "Please note that mutual friends counts are stated wherever available, while some friends do not have a mutual friends count mentioned. \n"
     ]
    }
   ],
   "source": [
    "# import packages based on code below\n",
    "from openai import OpenAI\n",
    "import os\n",
    "\n",
    "# Initialize OpenAI client\n",
    "client = OpenAI()  # Make sure your API key is set in environment variables\n",
    "\n",
    "# Step 1: Create your prompts\n",
    "\n",
    "system_prompt = \"You are an organizing assistant that keeps track of my social media friends, followers, etc. And keeps me up to date\"\n",
    "\n",
    "# Read the HTML content from the file\n",
    "with open('fb-friends.html', 'r', encoding='utf-8') as file:\n",
    "    facebook_html = file.read()\n",
    "\n",
    "# Truncate HTML if it's too long (OpenAI has token limits)\n",
    "max_chars = 50000  # Roughly ~12,500 tokens\n",
    "if len(facebook_html) > max_chars:\n",
    "    facebook_html = facebook_html[:max_chars] + \"\\n... [HTML truncated due to length]\"\n",
    "    print(f\"HTML truncated to {max_chars} characters to fit OpenAI token limits\")\n",
    "\n",
    "print(f\"HTML content length: {len(facebook_html)} characters\")\n",
    "\n",
    "# Step 2: Make the messages list\n",
    "\n",
    "user_prompt = f\"\"\"\n",
    "Please analyze this HTML content from my Facebook friends list and extract all my friends' information.\n",
    "\n",
    "HTML Content:\n",
    "{facebook_html}\n",
    "\n",
    "Please:\n",
    "1. Find all friend names in this HTML\n",
    "2. Find their mutual friend counts (if available)\n",
    "3. Present the results in a clean table format with columns: Friend Name, Mutual Friends\n",
    "4. Sort alphabetically by friend name\n",
    "\n",
    "Focus only on actual friends, not navigation links or other elements. Look for patterns like names followed by \"X mutual friends\" text.\n",
    "\"\"\"\n",
    "\n",
    "messages = [\n",
    "     {\"role\": \"system\", \"content\": system_prompt},\n",
    "    {\"role\": \"user\", \"content\": user_prompt}\n",
    "]\n",
    "\n",
    "# Step 3: Call OpenAI\n",
    "\n",
    "response = client.chat.completions.create(\n",
    "        model = \"gpt-4o-mini\",\n",
    "        messages = messages\n",
    "    )\n",
    "\n",
    "# Step 4: print the result\n",
    "\n",
    "print(response.choices[0].message.content)"
   ]
  },
  {
   "cell_type": "markdown",
   "id": "d7bfa149-cff5-42f1-8023-7cba183d5d9e",
   "metadata": {},
   "source": [
    "OpenAi API documentation: https://platform.openai.com/docs/guides/text?api-mode=responses\n",
    "Claude API documentation: https://docs.anthropic.com/en/api/overview"
   ]
  },
  {
   "cell_type": "code",
   "execution_count": null,
   "id": "ce9fe17d-66f0-4816-9d45-a508a1a66acc",
   "metadata": {},
   "outputs": [],
   "source": []
  },
  {
   "cell_type": "code",
   "execution_count": null,
   "id": "de82c2f1-b641-43ad-8c77-ed43ff0ff18d",
   "metadata": {},
   "outputs": [],
   "source": []
  }
 ],
 "metadata": {
  "kernelspec": {
   "display_name": "Python 3 (ipykernel)",
   "language": "python",
   "name": "python3"
  },
  "language_info": {
   "codemirror_mode": {
    "name": "ipython",
    "version": 3
   },
   "file_extension": ".py",
   "mimetype": "text/x-python",
   "name": "python",
   "nbconvert_exporter": "python",
   "pygments_lexer": "ipython3",
   "version": "3.11.13"
  }
 },
 "nbformat": 4,
 "nbformat_minor": 5
}
